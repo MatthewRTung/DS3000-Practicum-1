{
 "cells": [
  {
   "cell_type": "markdown",
   "metadata": {},
   "source": [
    "# DS 3000 - Assignment [TODO: enter assignment number]\n",
    "\n",
    "**Student Name**: [TODO: Enter your name here]\n",
    "\n",
    "**Date**: [TODO: Enter the date]\n",
    "\n",
    "\n",
    "### Submission Instructions\n",
    "Submit this `ipynb` file to canvas.\n",
    "\n",
    "The `ipynb` format stores outputs from the last time you ran the notebook.  (When you open a notebook it has the figures and outputs of the last time you ran it too).  To ensure that your submitted `ipynb` file represents your latest code, make sure to give a fresh run `Kernel > Restart & Run All` just before uploading the `ipynb` file to Canvas.\n",
    "\n",
    "### Academic Integrity\n",
    "\n",
    "**Writing your homework is an individual effort.**  You may discuss general python problems with other students but under no circumstances should you observe another student's code which was written for this assignment, from this year or past years.  Pop into office hours or DM us in MS Teams if you have a specific question about your work or if you would like another pair of eyes or talk through your code.\n",
    "\n",
    "Don't forget to cite websites which helped you solve a problem in a unique way.  You can do this in markdown near the code or with a simple one-line comment. You do not need to cite the official python documentation.\n",
    "\n",
    "**Documentation / style counts for credit**  Please refer to the Pep-8 style, to improve the readability and consistency of your Python code. For more information, read the following article [How to Write Beautiful Python Code With PEP 8](https://realpython.com/python-pep8/) or ask your TA's for tips.\n",
    "\n",
    "**NOTE:<span style='color:red'> Write python expressions to answer ALL questions below and ensure that you use the `print()` function to display the output.</span>** Each question should be answered in a new code cell. For example, your solution for question 1.1 should be in a different code cell from your solution for question 1.2."
   ]
  },
  {
   "cell_type": "markdown",
   "metadata": {},
   "source": [
    "## Question 1: \n",
    "\n",
    "In your own words, formulate the Data Science problem that you were given.\n"
   ]
  },
  {
   "cell_type": "markdown",
   "metadata": {},
   "source": [
    "The dataset that we have been given has information from the Bureau of Transportation Statistics which has flight performance data for airlines operating in Arizona, Nevada, and California. Our main focus is on flight delays and air traffic patterns. We want to determine which airports have the higheset volume of flights, find peak travel times, and the most common flight routes.\n",
    "1. Understand Air Traffic Patterns:\n",
    "- Analyze flight frequency and distribution across different airports and regions.\n",
    "- Identify the busiest airports and peak travel times.\n",
    "- Look for differences in air traffic based on route, season, and airline.\n",
    "2. Understand Airline Performance that have delays:\n",
    "- Find out which airlines are most prone to delays.\n",
    "- See if certain airports have more delays than others.\n",
    "- Look for trends in departure and arrival delays across different times, days, and months.\n",
    "- Check if there are any factors that lead to flight delays (distance, departure time, weather conditions, number of flights in and out)\n",
    "\n",
    "The problem that we have is about exploratory data analysis as well as inferential analytics to identify trends, relationships, and potential factors that are behind flight delays. The results that we get can give insights to airlines, airport authorities, and passengers to help improve flight operations and help when planning for traveling.\""
   ]
  },
  {
   "cell_type": "markdown",
   "metadata": {},
   "source": [
    "## Question 2: \n",
    "1. Evaluate the dataset to determine if ALL variables are represented in their expected type. Convert variables to suitable data types (if needed).\n",
    "2. Analyze the data to determine what preprocessing steps are needed. Perform the required data preparation steps. At a minimum, ensure that you handle both missing and invalid values. Justify the approach that is taken to prepare the data for analysis.\n",
    "3. At a high level, provide an overview of the dataset; prepare summary statistics and at least three visualizations to support your explanation. Note: the explanation and visualizations should be relevant to the DS Problem in question 1.\n"
   ]
  },
  {
   "cell_type": "code",
   "execution_count": null,
   "metadata": {},
   "outputs": [],
   "source": []
  },
  {
   "cell_type": "code",
   "execution_count": 2,
   "metadata": {},
   "outputs": [],
   "source": [
    "#Write your python code to answer question 2. You can add new cells below as needed."
   ]
  },
  {
   "cell_type": "markdown",
   "metadata": {},
   "source": [
    "# Question 3:\n",
    "1. Evaluate the dataset to determine if ALL variables are represented in their expected type. Convert variables to suitable data types (if needed).\n",
    "2. Analyze the data to determine what preprocessing steps are needed. Perform the required data preparation steps. At a minimum, ensure that you handle both missing and invalid values. Justify the approach that is taken to prepare the data for analysis.\n",
    "3. At a high level, provide an overview of the dataset; prepare summary statistics and at least three visualizations to support your explanation. Note: the explanation and visualizations should be relevant to the DS Problem in question 1."
   ]
  },
  {
   "cell_type": "code",
   "execution_count": null,
   "metadata": {},
   "outputs": [],
   "source": []
  },
  {
   "cell_type": "markdown",
   "metadata": {},
   "source": [
    "# Question 4:\n",
    "1. Explore the carriers within the dataset and demonstrate at least TWO (2) patterns that you identified.\n",
    "2. Analyze the minimum, maximum and average arrival and departure delays for each Airline/Carrier. Visualize the top 10 results. Explain the patterns in the delays and demonstrate: 1) which carriers are more prone to flight delays and 2) are the delays occurring more frequently in certain regions**?\n",
    "**Tip: it is important to analyze the airlines across multiple airports and/or regions in order to conclude that they have a pattern of being late."
   ]
  },
  {
   "cell_type": "code",
   "execution_count": 7,
   "metadata": {},
   "outputs": [
    {
     "name": "stdout",
     "output_type": "stream",
     "text": [
      "<class 'pandas.core.frame.DataFrame'>\n",
      "RangeIndex: 1897503 entries, 0 to 1897502\n",
      "Data columns (total 14 columns):\n",
      " #   Column        Dtype  \n",
      "---  ------        -----  \n",
      " 0   FL_DATE       object \n",
      " 1   CARRIER_CODE  object \n",
      " 2   TAIL_NUM      object \n",
      " 3   FL_NUM        int64  \n",
      " 4   ORIGIN        object \n",
      " 5   ORIGIN_ST     object \n",
      " 6   DEST          object \n",
      " 7   DEST_ST       object \n",
      " 8   DEP_TIME      float64\n",
      " 9   DEP_DELAY     float64\n",
      " 10  ARR_TIME      float64\n",
      " 11  ARR_DELAY     float64\n",
      " 12  ELAPSED_TIME  float64\n",
      " 13  DISTANCE      int64  \n",
      "dtypes: float64(5), int64(2), object(7)\n",
      "memory usage: 202.7+ MB\n"
     ]
    },
    {
     "data": {
      "text/html": [
       "<div>\n",
       "<style scoped>\n",
       "    .dataframe tbody tr th:only-of-type {\n",
       "        vertical-align: middle;\n",
       "    }\n",
       "\n",
       "    .dataframe tbody tr th {\n",
       "        vertical-align: top;\n",
       "    }\n",
       "\n",
       "    .dataframe thead th {\n",
       "        text-align: right;\n",
       "    }\n",
       "</style>\n",
       "<table border=\"1\" class=\"dataframe\">\n",
       "  <thead>\n",
       "    <tr style=\"text-align: right;\">\n",
       "      <th></th>\n",
       "      <th>FL_DATE</th>\n",
       "      <th>CARRIER_CODE</th>\n",
       "      <th>TAIL_NUM</th>\n",
       "      <th>FL_NUM</th>\n",
       "      <th>ORIGIN</th>\n",
       "      <th>ORIGIN_ST</th>\n",
       "      <th>DEST</th>\n",
       "      <th>DEST_ST</th>\n",
       "      <th>DEP_TIME</th>\n",
       "      <th>DEP_DELAY</th>\n",
       "      <th>ARR_TIME</th>\n",
       "      <th>ARR_DELAY</th>\n",
       "      <th>ELAPSED_TIME</th>\n",
       "      <th>DISTANCE</th>\n",
       "    </tr>\n",
       "  </thead>\n",
       "  <tbody>\n",
       "    <tr>\n",
       "      <th>0</th>\n",
       "      <td>2019-10-01</td>\n",
       "      <td>AA</td>\n",
       "      <td>N916NN</td>\n",
       "      <td>2311</td>\n",
       "      <td>TUS</td>\n",
       "      <td>AZ</td>\n",
       "      <td>ORD</td>\n",
       "      <td>IL</td>\n",
       "      <td>828.0</td>\n",
       "      <td>0.0</td>\n",
       "      <td>1353.0</td>\n",
       "      <td>0.0</td>\n",
       "      <td>205.0</td>\n",
       "      <td>1437</td>\n",
       "    </tr>\n",
       "    <tr>\n",
       "      <th>1</th>\n",
       "      <td>2019-10-01</td>\n",
       "      <td>AA</td>\n",
       "      <td>N733UW</td>\n",
       "      <td>2315</td>\n",
       "      <td>PHX</td>\n",
       "      <td>AZ</td>\n",
       "      <td>DEN</td>\n",
       "      <td>CO</td>\n",
       "      <td>1907.0</td>\n",
       "      <td>0.0</td>\n",
       "      <td>2159.0</td>\n",
       "      <td>0.0</td>\n",
       "      <td>112.0</td>\n",
       "      <td>602</td>\n",
       "    </tr>\n",
       "    <tr>\n",
       "      <th>2</th>\n",
       "      <td>2019-10-01</td>\n",
       "      <td>AA</td>\n",
       "      <td>N140AN</td>\n",
       "      <td>2318</td>\n",
       "      <td>DFW</td>\n",
       "      <td>TX</td>\n",
       "      <td>LAX</td>\n",
       "      <td>CA</td>\n",
       "      <td>1904.0</td>\n",
       "      <td>104.0</td>\n",
       "      <td>2016.0</td>\n",
       "      <td>101.0</td>\n",
       "      <td>192.0</td>\n",
       "      <td>1235</td>\n",
       "    </tr>\n",
       "    <tr>\n",
       "      <th>3</th>\n",
       "      <td>2019-10-01</td>\n",
       "      <td>AA</td>\n",
       "      <td>N925AN</td>\n",
       "      <td>2325</td>\n",
       "      <td>SNA</td>\n",
       "      <td>CA</td>\n",
       "      <td>DFW</td>\n",
       "      <td>TX</td>\n",
       "      <td>1729.0</td>\n",
       "      <td>4.0</td>\n",
       "      <td>2215.0</td>\n",
       "      <td>3.0</td>\n",
       "      <td>166.0</td>\n",
       "      <td>1205</td>\n",
       "    </tr>\n",
       "    <tr>\n",
       "      <th>4</th>\n",
       "      <td>2019-10-01</td>\n",
       "      <td>AA</td>\n",
       "      <td>N143AN</td>\n",
       "      <td>2328</td>\n",
       "      <td>ATL</td>\n",
       "      <td>GA</td>\n",
       "      <td>LAX</td>\n",
       "      <td>CA</td>\n",
       "      <td>656.0</td>\n",
       "      <td>0.0</td>\n",
       "      <td>841.0</td>\n",
       "      <td>0.0</td>\n",
       "      <td>285.0</td>\n",
       "      <td>1947</td>\n",
       "    </tr>\n",
       "  </tbody>\n",
       "</table>\n",
       "</div>"
      ],
      "text/plain": [
       "      FL_DATE CARRIER_CODE TAIL_NUM  FL_NUM ORIGIN ORIGIN_ST DEST DEST_ST  \\\n",
       "0  2019-10-01           AA   N916NN    2311    TUS        AZ  ORD      IL   \n",
       "1  2019-10-01           AA   N733UW    2315    PHX        AZ  DEN      CO   \n",
       "2  2019-10-01           AA   N140AN    2318    DFW        TX  LAX      CA   \n",
       "3  2019-10-01           AA   N925AN    2325    SNA        CA  DFW      TX   \n",
       "4  2019-10-01           AA   N143AN    2328    ATL        GA  LAX      CA   \n",
       "\n",
       "   DEP_TIME  DEP_DELAY  ARR_TIME  ARR_DELAY  ELAPSED_TIME  DISTANCE  \n",
       "0     828.0        0.0    1353.0        0.0         205.0      1437  \n",
       "1    1907.0        0.0    2159.0        0.0         112.0       602  \n",
       "2    1904.0      104.0    2016.0      101.0         192.0      1235  \n",
       "3    1729.0        4.0    2215.0        3.0         166.0      1205  \n",
       "4     656.0        0.0     841.0        0.0         285.0      1947  "
      ]
     },
     "execution_count": 7,
     "metadata": {},
     "output_type": "execute_result"
    }
   ],
   "source": [
    "import pandas as pd\n",
    "file_path = r\"C:\\Users\\33735\\Desktop\\CS4530\\2019_ONTIME_REPORTING_FSW.csv\"\n",
    "df = pd.read_csv(file_path)\n",
    "df.info()\n",
    "df.head()"
   ]
  },
  {
   "cell_type": "code",
   "execution_count": 8,
   "metadata": {},
   "outputs": [
    {
     "name": "stdout",
     "output_type": "stream",
     "text": [
      "Missing values per column:\n",
      " FL_DATE             0\n",
      "CARRIER_CODE        0\n",
      "TAIL_NUM         4791\n",
      "FL_NUM              0\n",
      "ORIGIN              0\n",
      "ORIGIN_ST           0\n",
      "DEST                0\n",
      "DEST_ST             0\n",
      "DEP_TIME        26707\n",
      "DEP_DELAY       26715\n",
      "ARR_TIME        28244\n",
      "ARR_DELAY       31884\n",
      "ELAPSED_TIME    31884\n",
      "DISTANCE            0\n",
      "dtype: int64\n",
      "<class 'pandas.core.frame.DataFrame'>\n",
      "RangeIndex: 1897503 entries, 0 to 1897502\n",
      "Data columns (total 14 columns):\n",
      " #   Column        Dtype         \n",
      "---  ------        -----         \n",
      " 0   FL_DATE       datetime64[ns]\n",
      " 1   CARRIER_CODE  object        \n",
      " 2   TAIL_NUM      object        \n",
      " 3   FL_NUM        int64         \n",
      " 4   ORIGIN        object        \n",
      " 5   ORIGIN_ST     object        \n",
      " 6   DEST          object        \n",
      " 7   DEST_ST       object        \n",
      " 8   DEP_TIME      float64       \n",
      " 9   DEP_DELAY     float64       \n",
      " 10  ARR_TIME      float64       \n",
      " 11  ARR_DELAY     float64       \n",
      " 12  ELAPSED_TIME  float64       \n",
      " 13  DISTANCE      int64         \n",
      "dtypes: datetime64[ns](1), float64(5), int64(2), object(6)\n",
      "memory usage: 202.7+ MB\n"
     ]
    }
   ],
   "source": [
    "# Check for missing values\n",
    "missing_values = df.isnull().sum()\n",
    "print(\"Missing values per column:\\n\", missing_values)\n",
    "df[\"FL_DATE\"] = pd.to_datetime(df[\"FL_DATE\"])\n",
    "df[\"DEP_DELAY\"] = df[\"DEP_DELAY\"].apply(lambda x: max(x, 0)) \n",
    "df[\"ARR_DELAY\"] = df[\"ARR_DELAY\"].apply(lambda x: max(x, 0))\n",
    "df.info()"
   ]
  },
  {
   "cell_type": "code",
   "execution_count": 9,
   "metadata": {},
   "outputs": [
    {
     "name": "stdout",
     "output_type": "stream",
     "text": [
      "   CARRIER_CODE  DEP_DELAY_min  DEP_DELAY_max  DEP_DELAY_mean  ARR_DELAY_min  \\\n",
      "5            F9            0.0          711.0       20.040657            0.0   \n",
      "14           YX            0.0          500.0       18.629870            0.0   \n",
      "2            B6            0.0         1769.0       16.594516            0.0   \n",
      "11           UA            0.0         1515.0       15.495850            0.0   \n",
      "13           YV            0.0         2209.0       15.468412            0.0   \n",
      "0            AA            0.0         2315.0       14.688518            0.0   \n",
      "10           OO            0.0         1912.0       14.457130            0.0   \n",
      "6            G4            0.0         1540.0       13.167740            0.0   \n",
      "9            NK            0.0         1434.0       13.054907            0.0   \n",
      "4            EV            0.0          164.0       11.627660            0.0   \n",
      "\n",
      "    ARR_DELAY_max  ARR_DELAY_mean  \n",
      "5           695.0       19.000000  \n",
      "14          481.0       18.363636  \n",
      "2          1756.0       16.052948  \n",
      "11         1516.0       15.705985  \n",
      "13         2206.0       15.515553  \n",
      "0          2350.0       14.663912  \n",
      "10         1909.0       14.558668  \n",
      "6          1532.0       13.816120  \n",
      "9          1429.0       12.722203  \n",
      "4           175.0       13.244681  \n"
     ]
    }
   ],
   "source": [
    "# Group by carrier and calculate min, max, and average delays\n",
    "carrier_delays = df.groupby(\"CARRIER_CODE\")[[\"DEP_DELAY\", \"ARR_DELAY\"]].agg([\"min\", \"max\", \"mean\"])\n",
    "carrier_delays.columns = [\"_\".join(col) for col in carrier_delays.columns] \n",
    "carrier_delays = carrier_delays.reset_index()\n",
    "top_carriers = carrier_delays.sort_values(by=\"DEP_DELAY_mean\", ascending=False).head(10)\n",
    "print(top_carriers)"
   ]
  },
  {
   "cell_type": "code",
   "execution_count": 10,
   "metadata": {},
   "outputs": [
    {
     "data": {
      "image/png": "[encoded data removed]",
      "text/plain": [
       "<Figure size 1200x600 with 1 Axes>"
      ]
     },
     "metadata": {},
     "output_type": "display_data"
    }
   ],
   "source": [
    "import matplotlib.pyplot as plt\n",
    "plt.figure(figsize=(12, 6))\n",
    "plt.barh(top_carriers[\"CARRIER_CODE\"], top_carriers[\"DEP_DELAY_mean\"], color=\"red\")\n",
    "plt.xlabel(\"Average Departure Delay (minutes)\")\n",
    "plt.ylabel(\"Carrier\")\n",
    "plt.title(\"Top 10 Airlines with Highest Average Departure Delays in 2019\")\n",
    "plt.gca().invert_yaxis() \n",
    "plt.show()"
   ]
  },
  {
   "cell_type": "code",
   "execution_count": 11,
   "metadata": {},
   "outputs": [
    {
     "data": {
      "image/png": "[encoded data removed]",
      "text/plain": [
       "<Figure size 1000x500 with 1 Axes>"
      ]
     },
     "metadata": {},
     "output_type": "display_data"
    }
   ],
   "source": [
    "state_delays = df.groupby(\"ORIGIN_ST\")[[\"DEP_DELAY\", \"ARR_DELAY\"]].mean()\n",
    "state_delays.plot(kind=\"bar\", figsize=(10,5))\n",
    "plt.title(\"Average Delays by State\")\n",
    "plt.ylabel(\"Minutes Delay\")\n",
    "plt.xlabel(\"State\")\n",
    "plt.show()\n"
   ]
  },
  {
   "cell_type": "markdown",
   "metadata": {},
   "source": [
    "Question 4 Summary:\n",
    "1. From the dataset, we identified two main delay patterns:\n",
    "1.1 Some carriers consistently experience higher average delays.\n",
    "Carriers like F9 (Frontier Airlines), YX (Republic Airways), and B6 (JetBlue Airways) had the highest average departure and arrival delays.\n",
    "These airlines have a history of delays, potentially due to operational inefficiencies, scheduling congestion, or hub locations.\n",
    "1.2 Delays are not uniform across all states and airports.\n",
    "Some states (e.g., NV and CA) had slightly higher delays than others.\n",
    "This could be due to busy airports (LAX, LAS, SFO), where congestion and air traffic volume contribute to longer delays.\n",
    "\n",
    "2. Analysis of Minimum, Maximum, and Average Delays by Carrier\n",
    "We analyzed the minimum, maximum, and average departure and arrival delays for each airline.\n",
    "The top 10 airlines with the highest delays were visualized, showing that:\n",
    "F9 (Frontier Airlines) had the highest average departure delay (~20 minutes).\n",
    "AA (American Airlines) and UA (United Airlines) also had significant delays.\n",
    "Some airlines had outlier max delays (e.g., 1769 minutes for B6), which could be due to cancellations, severe weather, or operational issues.\n",
    "\n",
    "Over all: \n",
    "Frontier Airlines (F9) and Republic Airways (YX) are the most delay-prone carriers.\n",
    "Major airport hubs (e.g., LAX, LAS) contribute to higher delays in CA and NV.\n",
    "Delays are influenced by both the airline's operations and the airport's traffic load."
   ]
  },
  {
   "cell_type": "markdown",
   "metadata": {},
   "source": [
    "# Question 5:\n",
    "1. Evaluate which airlines have the best performance in the region. Display the top 10 airlines.\n",
    "Note: it's important to explain your rational for determining \"the best performance\".\n",
    "2. For each airline, ensure that you calculate their total flight hours for each month. Explain and visualize the results for the top 10 airlines. \n",
    "Hint: the total flight hours is not equivalent to the frequency of flights, and ensure that you display the total hours and not the total minutes."
   ]
  },
  {
   "cell_type": "code",
   "execution_count": null,
   "metadata": {},
   "outputs": [],
   "source": []
  },
  {
   "cell_type": "markdown",
   "metadata": {},
   "source": [
    "# Question 6:\n",
    "Select any THREE (3) aircraft***, and explore the data to analyze the following for each aircraft:\n",
    "\n",
    "1. Indicate which airline operates the selected aircraft and where it often travels.\n",
    "2. Arrival and departure delays at the airports where it traveled.\n",
    "3. Create summary statistics on the distance traveled.\n",
    "Analyze all the results in 6.1-6.3 to identify any patterns that are evident. Explain your findings and visualize ALL results.\n",
    "***Note: the TAIL_NUM can help you to identify each unique aircraft."
   ]
  },
  {
   "cell_type": "code",
   "execution_count": null,
   "metadata": {},
   "outputs": [],
   "source": []
  },
  {
   "cell_type": "markdown",
   "metadata": {},
   "source": [
    "# Question 7:\n",
    "Summarize the overall analysis and share THREE (3) key findings."
   ]
  },
  {
   "cell_type": "markdown",
   "metadata": {},
   "source": []
  },
  {
   "cell_type": "markdown",
   "metadata": {},
   "source": [
    "## Helpful resources \n",
    "Don't forget to cite websites which helped you solve a problem in a unique way.  You can do this in markdown near the code or with a simple one-line comment inside the code cell, or you can list them below. \n",
    "\n",
    "You do not need to cite the official python documentation.\n"
   ]
  }
 ],
 "metadata": {
  "kernelspec": {
   "display_name": "base",
   "language": "python",
   "name": "python3"
  },
  "language_info": {
   "codemirror_mode": {
    "name": "ipython",
    "version": 3
   },
   "file_extension": ".py",
   "mimetype": "text/x-python",
   "name": "python",
   "nbconvert_exporter": "python",
   "pygments_lexer": "ipython3",
   "version": "3.12.7"
  }
 },
 "nbformat": 4,
 "nbformat_minor": 4
}
