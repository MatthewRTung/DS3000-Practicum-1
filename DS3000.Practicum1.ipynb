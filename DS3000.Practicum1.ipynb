{
 "cells": [
  {
   "cell_type": "markdown",
   "metadata": {},
   "source": [
<<<<<<< HEAD
    "# DS 3000 - Assignment [TODO: enter assignment number]\n",
    "\n",
    "**Student Name**: [TODO: Enter your name here]\n",
    "\n",
    "**Date**: [TODO: Enter the date]\n",
    "\n",
    "\n",
    "### Submission Instructions\n",
    "Submit this `ipynb` file to canvas.\n",
    "\n",
    "The `ipynb` format stores outputs from the last time you ran the notebook.  (When you open a notebook it has the figures and outputs of the last time you ran it too).  To ensure that your submitted `ipynb` file represents your latest code, make sure to give a fresh run `Kernel > Restart & Run All` just before uploading the `ipynb` file to Canvas.\n",
    "\n",
    "### Academic Integrity\n",
    "\n",
    "**Writing your homework is an individual effort.**  You may discuss general python problems with other students but under no circumstances should you observe another student's code which was written for this assignment, from this year or past years.  Pop into office hours or DM us in MS Teams if you have a specific question about your work or if you would like another pair of eyes or talk through your code.\n",
    "\n",
    "Don't forget to cite websites which helped you solve a problem in a unique way.  You can do this in markdown near the code or with a simple one-line comment. You do not need to cite the official python documentation.\n",
    "\n",
    "**Documentation / style counts for credit**  Please refer to the Pep-8 style, to improve the readability and consistency of your Python code. For more information, read the following article [How to Write Beautiful Python Code With PEP 8](https://realpython.com/python-pep8/) or ask your TA's for tips.\n",
    "\n",
    "**NOTE:<span style='color:red'> Write python expressions to answer ALL questions below and ensure that you use the `print()` function to display the output.</span>** Each question should be answered in a new code cell. For example, your solution for question 1.1 should be in a different code cell from your solution for question 1.2."
=======
    "# DS 3000 - Practicum 1\n",
    "\n",
    "**Student Name**: Matthew Tung, Alen Ganopolsky, Victoria Whisnant, Zhexuan Zhan\n",
    "\n",
    "**Date**: 2/4/25"
>>>>>>> 5383eb5 (Question 1)
   ]
  },
  {
   "cell_type": "markdown",
   "metadata": {},
   "source": [
    "## Question 1: \n",
    "\n",
    "In your own words, formulate the Data Science problem that you were given.\n"
   ]
  },
  {
<<<<<<< HEAD
   "cell_type": "code",
   "execution_count": 1,
   "metadata": {},
   "outputs": [],
   "source": []
=======
   "cell_type": "markdown",
   "metadata": {},
   "source": [
    "Overall problem:\n",
    "The dataset that we have been given has information from the Bureau of Transportation Statistics which has flight performance data for airlines operating in Arizona, Nevada, and California. Our main focus is on flight delays and air traffic patterns. We want to determine which airports have the higheset volume of flights, find peak travel times, and the most common flight routes.\n",
    "1. Understand Air Traffic Patterns:\n",
    "- Analyze flight frequency and distribution across different airports and regions.\n",
    "- Identify the busiest airports and peak travel times.\n",
    "- Look for differences in air traffic based on route, season, and airline.\n",
    "2. Understand Airline Performance that have delays:\n",
    "- Find out which airlines are most prone to delays.\n",
    "- See if certain airports have more delays than others.\n",
    "- Look for trends in departure and arrival delays across different times, days, and months.\n",
    "- Check if there are any factors that lead to flight delays (distance, departure time, weather conditions, number of flights in and out)\n",
    "\n",
    "The problem that we have is about exploratory data analysis as well as inferential analytics to identify trends, relationships, and potential factors that are behind flight delays. The results that we get can give insights to airlines, airport authorities, and passengers to help improve flight operations and help when planning for traveling."
   ]
>>>>>>> 5383eb5 (Question 1)
  },
  {
   "cell_type": "markdown",
   "metadata": {},
   "source": [
    "## Question 2: \n",
    "1. Evaluate the dataset to determine if ALL variables are represented in their expected type. Convert variables to suitable data types (if needed).\n",
    "2. Analyze the data to determine what preprocessing steps are needed. Perform the required data preparation steps. At a minimum, ensure that you handle both missing and invalid values. Justify the approach that is taken to prepare the data for analysis.\n",
    "3. At a high level, provide an overview of the dataset; prepare summary statistics and at least three visualizations to support your explanation. Note: the explanation and visualizations should be relevant to the DS Problem in question 1.\n"
   ]
  },
  {
   "cell_type": "code",
   "execution_count": 2,
   "metadata": {},
   "outputs": [],
   "source": [
    "#Write your python code to answer question 2. You can add new cells below as needed."
   ]
  },
  {
   "cell_type": "markdown",
   "metadata": {},
   "source": [
    "# Question 3:\n",
    "1. Evaluate the dataset to determine if ALL variables are represented in their expected type. Convert variables to suitable data types (if needed).\n",
    "2. Analyze the data to determine what preprocessing steps are needed. Perform the required data preparation steps. At a minimum, ensure that you handle both missing and invalid values. Justify the approach that is taken to prepare the data for analysis.\n",
    "3. At a high level, provide an overview of the dataset; prepare summary statistics and at least three visualizations to support your explanation. Note: the explanation and visualizations should be relevant to the DS Problem in question 1."
   ]
  },
  {
   "cell_type": "code",
   "execution_count": null,
   "metadata": {},
   "outputs": [],
   "source": []
  },
  {
   "cell_type": "markdown",
   "metadata": {},
   "source": [
    "# Question 4:\n",
    "1. Explore the carriers within the dataset and demonstrate at least TWO (2) patterns that you identified.\n",
    "2. Analyze the minimum, maximum and average arrival and departure delays for each Airline/Carrier. Visualize the top 10 results. Explain the patterns in the delays and demonstrate: 1) which carriers are more prone to flight delays and 2) are the delays occurring more frequently in certain regions**?\n",
    "**Tip: it is important to analyze the airlines across multiple airports and/or regions in order to conclude that they have a pattern of being late."
   ]
  },
  {
   "cell_type": "code",
   "execution_count": null,
   "metadata": {},
   "outputs": [],
   "source": []
  },
  {
   "cell_type": "markdown",
   "metadata": {},
   "source": [
    "# Question 5:\n",
    "1. Evaluate which airlines have the best performance in the region. Display the top 10 airlines.\n",
    "Note: it's important to explain your rational for determining \"the best performance\".\n",
    "2. For each airline, ensure that you calculate their total flight hours for each month. Explain and visualize the results for the top 10 airlines. \n",
    "Hint: the total flight hours is not equivalent to the frequency of flights, and ensure that you display the total hours and not the total minutes."
   ]
  },
  {
   "cell_type": "code",
   "execution_count": null,
   "metadata": {},
   "outputs": [],
   "source": []
  },
  {
   "cell_type": "markdown",
   "metadata": {},
   "source": [
    "# Question 6:\n",
    "Select any THREE (3) aircraft***, and explore the data to analyze the following for each aircraft:\n",
    "\n",
    "1. Indicate which airline operates the selected aircraft and where it often travels.\n",
    "2. Arrival and departure delays at the airports where it traveled.\n",
    "3. Create summary statistics on the distance traveled.\n",
    "Analyze all the results in 6.1-6.3 to identify any patterns that are evident. Explain your findings and visualize ALL results.\n",
    "***Note: the TAIL_NUM can help you to identify each unique aircraft."
   ]
  },
  {
   "cell_type": "code",
   "execution_count": null,
   "metadata": {},
   "outputs": [],
   "source": []
  },
  {
   "cell_type": "markdown",
   "metadata": {},
   "source": [
    "# Question 7:\n",
    "Summarize the overall analysis and share THREE (3) key findings."
   ]
  },
  {
   "cell_type": "markdown",
   "metadata": {},
<<<<<<< HEAD
   "source": []
  },
  {
   "cell_type": "markdown",
   "metadata": {},
   "source": [
    "## Helpful resources \n",
    "Don't forget to cite websites which helped you solve a problem in a unique way.  You can do this in markdown near the code or with a simple one-line comment inside the code cell, or you can list them below. \n",
    "\n",
    "You do not need to cite the official python documentation.\n"
=======
   "source": [
    "."
>>>>>>> 5383eb5 (Question 1)
   ]
  }
 ],
 "metadata": {
  "kernelspec": {
   "display_name": "Python 3",
   "language": "python",
   "name": "python3"
  },
  "language_info": {
   "codemirror_mode": {
    "name": "ipython",
    "version": 3
   },
   "file_extension": ".py",
   "mimetype": "text/x-python",
   "name": "python",
   "nbconvert_exporter": "python",
   "pygments_lexer": "ipython3",
   "version": "3.9.16"
  }
 },
 "nbformat": 4,
 "nbformat_minor": 4
}
